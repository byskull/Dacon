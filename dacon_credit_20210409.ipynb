{
  "nbformat": 4,
  "nbformat_minor": 0,
  "metadata": {
    "colab": {
      "name": "dacon_credit_20210409.ipynb",
      "provenance": []
    },
    "kernelspec": {
      "name": "python3",
      "display_name": "Python 3"
    },
    "language_info": {
      "name": "python"
    }
  },
  "cells": [
    {
      "cell_type": "markdown",
      "metadata": {
        "id": "MHniu1uj1zeS"
      },
      "source": [
        "###1. 데이터 입수"
      ]
    },
    {
      "cell_type": "code",
      "metadata": {
        "colab": {
          "base_uri": "https://localhost:8080/"
        },
        "id": "H6ND8XGk105I",
        "outputId": "172e89a7-09ad-4ea7-bbde-d02811dd2e26"
      },
      "source": [
        "from google.colab import drive\n",
        "drive.mount('/content/drive')"
      ],
      "execution_count": 1,
      "outputs": [
        {
          "output_type": "stream",
          "text": [
            "Mounted at /content/drive\n"
          ],
          "name": "stdout"
        }
      ]
    },
    {
      "cell_type": "code",
      "metadata": {
        "id": "e7p-INII1_Dp"
      },
      "source": [
        "import os\n",
        "os.chdir('/content/drive/MyDrive/Colab Notebooks/dacon')"
      ],
      "execution_count": 2,
      "outputs": []
    },
    {
      "cell_type": "code",
      "metadata": {
        "id": "oFnALaHC2FdJ"
      },
      "source": [
        "import pandas as pd\n",
        "import numpy as np\n",
        "\n",
        "test_df = pd.read_csv(\"test.csv\")\n",
        "train_df = pd.read_csv(\"train.csv\")"
      ],
      "execution_count": 3,
      "outputs": []
    },
    {
      "cell_type": "markdown",
      "metadata": {
        "id": "n_AnnxaY4B7s"
      },
      "source": [
        "###2. 탐색적 데이터 분석"
      ]
    },
    {
      "cell_type": "markdown",
      "metadata": {
        "id": "i56Jerb-2OD4"
      },
      "source": [
        " 먼저 목표가 되는 credit 의 분포를 봅시다. "
      ]
    },
    {
      "cell_type": "code",
      "metadata": {
        "colab": {
          "base_uri": "https://localhost:8080/"
        },
        "id": "RbSfo5kP2IcJ",
        "outputId": "8b0b2422-59aa-46db-a591-bb8739bdf19d"
      },
      "source": [
        "train_df.groupby(\"credit\")[\"index\"].count()"
      ],
      "execution_count": 8,
      "outputs": [
        {
          "output_type": "execute_result",
          "data": {
            "text/plain": [
              "credit\n",
              "0.0     3222\n",
              "1.0     6267\n",
              "2.0    16968\n",
              "Name: index, dtype: int64"
            ]
          },
          "metadata": {
            "tags": []
          },
          "execution_count": 8
        }
      ]
    },
    {
      "cell_type": "markdown",
      "metadata": {
        "id": "YXVfLtTJ2wvJ"
      },
      "source": [
        "숫자형 변수 간의 상관관계를 한번 살펴보면"
      ]
    },
    {
      "cell_type": "code",
      "metadata": {
        "colab": {
          "base_uri": "https://localhost:8080/",
          "height": 421
        },
        "id": "1UrzMQIJ2SqI",
        "outputId": "76546dad-4189-4125-8965-3f5977e88961"
      },
      "source": [
        "cormat = train_df.corr()\n",
        "cormat"
      ],
      "execution_count": 9,
      "outputs": [
        {
          "output_type": "execute_result",
          "data": {
            "text/html": [
              "<div>\n",
              "<style scoped>\n",
              "    .dataframe tbody tr th:only-of-type {\n",
              "        vertical-align: middle;\n",
              "    }\n",
              "\n",
              "    .dataframe tbody tr th {\n",
              "        vertical-align: top;\n",
              "    }\n",
              "\n",
              "    .dataframe thead th {\n",
              "        text-align: right;\n",
              "    }\n",
              "</style>\n",
              "<table border=\"1\" class=\"dataframe\">\n",
              "  <thead>\n",
              "    <tr style=\"text-align: right;\">\n",
              "      <th></th>\n",
              "      <th>index</th>\n",
              "      <th>child_num</th>\n",
              "      <th>income_total</th>\n",
              "      <th>DAYS_BIRTH</th>\n",
              "      <th>DAYS_EMPLOYED</th>\n",
              "      <th>FLAG_MOBIL</th>\n",
              "      <th>work_phone</th>\n",
              "      <th>phone</th>\n",
              "      <th>email</th>\n",
              "      <th>family_size</th>\n",
              "      <th>begin_month</th>\n",
              "      <th>credit</th>\n",
              "    </tr>\n",
              "  </thead>\n",
              "  <tbody>\n",
              "    <tr>\n",
              "      <th>index</th>\n",
              "      <td>1.000000</td>\n",
              "      <td>0.001012</td>\n",
              "      <td>0.009848</td>\n",
              "      <td>-0.008901</td>\n",
              "      <td>0.004259</td>\n",
              "      <td>NaN</td>\n",
              "      <td>-0.005575</td>\n",
              "      <td>-0.001790</td>\n",
              "      <td>0.005332</td>\n",
              "      <td>-0.002867</td>\n",
              "      <td>0.002181</td>\n",
              "      <td>-0.007841</td>\n",
              "    </tr>\n",
              "    <tr>\n",
              "      <th>child_num</th>\n",
              "      <td>0.001012</td>\n",
              "      <td>1.000000</td>\n",
              "      <td>0.032186</td>\n",
              "      <td>0.332816</td>\n",
              "      <td>-0.228159</td>\n",
              "      <td>NaN</td>\n",
              "      <td>0.051521</td>\n",
              "      <td>-0.010555</td>\n",
              "      <td>0.016120</td>\n",
              "      <td>0.890530</td>\n",
              "      <td>-0.007229</td>\n",
              "      <td>0.004081</td>\n",
              "    </tr>\n",
              "    <tr>\n",
              "      <th>income_total</th>\n",
              "      <td>0.009848</td>\n",
              "      <td>0.032186</td>\n",
              "      <td>1.000000</td>\n",
              "      <td>0.064155</td>\n",
              "      <td>-0.166478</td>\n",
              "      <td>NaN</td>\n",
              "      <td>-0.034207</td>\n",
              "      <td>0.019013</td>\n",
              "      <td>0.089882</td>\n",
              "      <td>0.023839</td>\n",
              "      <td>-0.018047</td>\n",
              "      <td>0.008555</td>\n",
              "    </tr>\n",
              "    <tr>\n",
              "      <th>DAYS_BIRTH</th>\n",
              "      <td>-0.008901</td>\n",
              "      <td>0.332816</td>\n",
              "      <td>0.064155</td>\n",
              "      <td>1.000000</td>\n",
              "      <td>-0.616776</td>\n",
              "      <td>NaN</td>\n",
              "      <td>0.178752</td>\n",
              "      <td>-0.029247</td>\n",
              "      <td>0.111238</td>\n",
              "      <td>0.298108</td>\n",
              "      <td>0.057306</td>\n",
              "      <td>-0.025187</td>\n",
              "    </tr>\n",
              "    <tr>\n",
              "      <th>DAYS_EMPLOYED</th>\n",
              "      <td>0.004259</td>\n",
              "      <td>-0.228159</td>\n",
              "      <td>-0.166478</td>\n",
              "      <td>-0.616776</td>\n",
              "      <td>1.000000</td>\n",
              "      <td>NaN</td>\n",
              "      <td>-0.241827</td>\n",
              "      <td>-0.007749</td>\n",
              "      <td>-0.091090</td>\n",
              "      <td>-0.223077</td>\n",
              "      <td>0.007964</td>\n",
              "      <td>-0.003798</td>\n",
              "    </tr>\n",
              "    <tr>\n",
              "      <th>FLAG_MOBIL</th>\n",
              "      <td>NaN</td>\n",
              "      <td>NaN</td>\n",
              "      <td>NaN</td>\n",
              "      <td>NaN</td>\n",
              "      <td>NaN</td>\n",
              "      <td>NaN</td>\n",
              "      <td>NaN</td>\n",
              "      <td>NaN</td>\n",
              "      <td>NaN</td>\n",
              "      <td>NaN</td>\n",
              "      <td>NaN</td>\n",
              "      <td>NaN</td>\n",
              "    </tr>\n",
              "    <tr>\n",
              "      <th>work_phone</th>\n",
              "      <td>-0.005575</td>\n",
              "      <td>0.051521</td>\n",
              "      <td>-0.034207</td>\n",
              "      <td>0.178752</td>\n",
              "      <td>-0.241827</td>\n",
              "      <td>NaN</td>\n",
              "      <td>1.000000</td>\n",
              "      <td>0.310256</td>\n",
              "      <td>-0.031048</td>\n",
              "      <td>0.068705</td>\n",
              "      <td>-0.008563</td>\n",
              "      <td>-0.003134</td>\n",
              "    </tr>\n",
              "    <tr>\n",
              "      <th>phone</th>\n",
              "      <td>-0.001790</td>\n",
              "      <td>-0.010555</td>\n",
              "      <td>0.019013</td>\n",
              "      <td>-0.029247</td>\n",
              "      <td>-0.007749</td>\n",
              "      <td>NaN</td>\n",
              "      <td>0.310256</td>\n",
              "      <td>1.000000</td>\n",
              "      <td>0.012494</td>\n",
              "      <td>-0.000132</td>\n",
              "      <td>-0.014286</td>\n",
              "      <td>0.003452</td>\n",
              "    </tr>\n",
              "    <tr>\n",
              "      <th>email</th>\n",
              "      <td>0.005332</td>\n",
              "      <td>0.016120</td>\n",
              "      <td>0.089882</td>\n",
              "      <td>0.111238</td>\n",
              "      <td>-0.091090</td>\n",
              "      <td>NaN</td>\n",
              "      <td>-0.031048</td>\n",
              "      <td>0.012494</td>\n",
              "      <td>1.000000</td>\n",
              "      <td>0.016122</td>\n",
              "      <td>0.002320</td>\n",
              "      <td>0.014812</td>\n",
              "    </tr>\n",
              "    <tr>\n",
              "      <th>family_size</th>\n",
              "      <td>-0.002867</td>\n",
              "      <td>0.890530</td>\n",
              "      <td>0.023839</td>\n",
              "      <td>0.298108</td>\n",
              "      <td>-0.223077</td>\n",
              "      <td>NaN</td>\n",
              "      <td>0.068705</td>\n",
              "      <td>-0.000132</td>\n",
              "      <td>0.016122</td>\n",
              "      <td>1.000000</td>\n",
              "      <td>-0.023032</td>\n",
              "      <td>0.008227</td>\n",
              "    </tr>\n",
              "    <tr>\n",
              "      <th>begin_month</th>\n",
              "      <td>0.002181</td>\n",
              "      <td>-0.007229</td>\n",
              "      <td>-0.018047</td>\n",
              "      <td>0.057306</td>\n",
              "      <td>0.007964</td>\n",
              "      <td>NaN</td>\n",
              "      <td>-0.008563</td>\n",
              "      <td>-0.014286</td>\n",
              "      <td>0.002320</td>\n",
              "      <td>-0.023032</td>\n",
              "      <td>1.000000</td>\n",
              "      <td>-0.147477</td>\n",
              "    </tr>\n",
              "    <tr>\n",
              "      <th>credit</th>\n",
              "      <td>-0.007841</td>\n",
              "      <td>0.004081</td>\n",
              "      <td>0.008555</td>\n",
              "      <td>-0.025187</td>\n",
              "      <td>-0.003798</td>\n",
              "      <td>NaN</td>\n",
              "      <td>-0.003134</td>\n",
              "      <td>0.003452</td>\n",
              "      <td>0.014812</td>\n",
              "      <td>0.008227</td>\n",
              "      <td>-0.147477</td>\n",
              "      <td>1.000000</td>\n",
              "    </tr>\n",
              "  </tbody>\n",
              "</table>\n",
              "</div>"
            ],
            "text/plain": [
              "                  index  child_num  ...  begin_month    credit\n",
              "index          1.000000   0.001012  ...     0.002181 -0.007841\n",
              "child_num      0.001012   1.000000  ...    -0.007229  0.004081\n",
              "income_total   0.009848   0.032186  ...    -0.018047  0.008555\n",
              "DAYS_BIRTH    -0.008901   0.332816  ...     0.057306 -0.025187\n",
              "DAYS_EMPLOYED  0.004259  -0.228159  ...     0.007964 -0.003798\n",
              "FLAG_MOBIL          NaN        NaN  ...          NaN       NaN\n",
              "work_phone    -0.005575   0.051521  ...    -0.008563 -0.003134\n",
              "phone         -0.001790  -0.010555  ...    -0.014286  0.003452\n",
              "email          0.005332   0.016120  ...     0.002320  0.014812\n",
              "family_size   -0.002867   0.890530  ...    -0.023032  0.008227\n",
              "begin_month    0.002181  -0.007229  ...     1.000000 -0.147477\n",
              "credit        -0.007841   0.004081  ...    -0.147477  1.000000\n",
              "\n",
              "[12 rows x 12 columns]"
            ]
          },
          "metadata": {
            "tags": []
          },
          "execution_count": 9
        }
      ]
    },
    {
      "cell_type": "markdown",
      "metadata": {
        "id": "tr9ycduz4HKJ"
      },
      "source": [
        "숫자의 상관관계를 보면 숫자만으로 해결하기는 힘들꺼란 생각이 듭니다"
      ]
    },
    {
      "cell_type": "markdown",
      "metadata": {
        "id": "DZrncnpB4W-a"
      },
      "source": [
        "###3. 데이터 전처리"
      ]
    },
    {
      "cell_type": "markdown",
      "metadata": {
        "id": "FfrSfWwg4M7S"
      },
      "source": [
        "먼저 카테고리형 변수와 숫자형 변수를 해결해야 합니다"
      ]
    },
    {
      "cell_type": "code",
      "metadata": {
        "id": "l5YIGMEi4RlK"
      },
      "source": [
        "train_obj_df = train_df.select_dtypes(include='object')\t# 카테고리형\n",
        "train_num_df = train_df.select_dtypes(exclude='object') # 숫자형\n",
        "\n",
        "test_obj_df = test_df.select_dtypes(include='object')\t# 카테고리형\n",
        "test_num_df = test_df.select_dtypes(exclude='object') # 숫자형"
      ],
      "execution_count": 10,
      "outputs": []
    },
    {
      "cell_type": "markdown",
      "metadata": {
        "id": "8iyrwQ7B4gjR"
      },
      "source": [
        "get_dummies 함수를 이용하면 문자형으로 (혹은 일부 숫자)를 되어 있는 범주형 변수들을 각 요소의 유무 판별 컬럼으로 분해해줄 수 있습니다. drop_first = True를 하면 첫번째 컬럼을 생략할 수 있게 되는데, 이러면 첫번째 요소에 해당하는 데이터는 관련 칼럼이 모두 0이 되겠죠. 예를 들어 범주가 네가지이면 1번 범주는 000, 2번 범주는 100, 3번범주는 010, 4번 범주는 001 이런식으로 구분할 수 있습니다. 이런걸 One-Hot encoding이라고 합니다."
      ]
    },
    {
      "cell_type": "code",
      "metadata": {
        "colab": {
          "base_uri": "https://localhost:8080/",
          "height": 258
        },
        "id": "ZeqwB1Ah4ZP6",
        "outputId": "8efab5ed-e07d-48ef-e64a-0c2132172380"
      },
      "source": [
        "train_dummy_df = pd.get_dummies(train_obj_df, drop_first=True)\n",
        "train_dummy_df.index = train_df.index\n",
        "\n",
        "\n",
        "test_dummy_df = pd.get_dummies(test_obj_df, drop_first=True)\n",
        "test_dummy_df.index = test_df.index\n",
        "\n",
        "train_dummy_df.head()"
      ],
      "execution_count": 12,
      "outputs": [
        {
          "output_type": "execute_result",
          "data": {
            "text/html": [
              "<div>\n",
              "<style scoped>\n",
              "    .dataframe tbody tr th:only-of-type {\n",
              "        vertical-align: middle;\n",
              "    }\n",
              "\n",
              "    .dataframe tbody tr th {\n",
              "        vertical-align: top;\n",
              "    }\n",
              "\n",
              "    .dataframe thead th {\n",
              "        text-align: right;\n",
              "    }\n",
              "</style>\n",
              "<table border=\"1\" class=\"dataframe\">\n",
              "  <thead>\n",
              "    <tr style=\"text-align: right;\">\n",
              "      <th></th>\n",
              "      <th>gender_M</th>\n",
              "      <th>car_Y</th>\n",
              "      <th>reality_Y</th>\n",
              "      <th>income_type_Pensioner</th>\n",
              "      <th>income_type_State servant</th>\n",
              "      <th>income_type_Student</th>\n",
              "      <th>income_type_Working</th>\n",
              "      <th>edu_type_Higher education</th>\n",
              "      <th>edu_type_Incomplete higher</th>\n",
              "      <th>edu_type_Lower secondary</th>\n",
              "      <th>edu_type_Secondary / secondary special</th>\n",
              "      <th>family_type_Married</th>\n",
              "      <th>family_type_Separated</th>\n",
              "      <th>family_type_Single / not married</th>\n",
              "      <th>family_type_Widow</th>\n",
              "      <th>house_type_House / apartment</th>\n",
              "      <th>house_type_Municipal apartment</th>\n",
              "      <th>house_type_Office apartment</th>\n",
              "      <th>house_type_Rented apartment</th>\n",
              "      <th>house_type_With parents</th>\n",
              "      <th>occyp_type_Cleaning staff</th>\n",
              "      <th>occyp_type_Cooking staff</th>\n",
              "      <th>occyp_type_Core staff</th>\n",
              "      <th>occyp_type_Drivers</th>\n",
              "      <th>occyp_type_HR staff</th>\n",
              "      <th>occyp_type_High skill tech staff</th>\n",
              "      <th>occyp_type_IT staff</th>\n",
              "      <th>occyp_type_Laborers</th>\n",
              "      <th>occyp_type_Low-skill Laborers</th>\n",
              "      <th>occyp_type_Managers</th>\n",
              "      <th>occyp_type_Medicine staff</th>\n",
              "      <th>occyp_type_Private service staff</th>\n",
              "      <th>occyp_type_Realty agents</th>\n",
              "      <th>occyp_type_Sales staff</th>\n",
              "      <th>occyp_type_Secretaries</th>\n",
              "      <th>occyp_type_Security staff</th>\n",
              "      <th>occyp_type_Waiters/barmen staff</th>\n",
              "    </tr>\n",
              "  </thead>\n",
              "  <tbody>\n",
              "    <tr>\n",
              "      <th>0</th>\n",
              "      <td>0</td>\n",
              "      <td>0</td>\n",
              "      <td>0</td>\n",
              "      <td>0</td>\n",
              "      <td>0</td>\n",
              "      <td>0</td>\n",
              "      <td>0</td>\n",
              "      <td>1</td>\n",
              "      <td>0</td>\n",
              "      <td>0</td>\n",
              "      <td>0</td>\n",
              "      <td>1</td>\n",
              "      <td>0</td>\n",
              "      <td>0</td>\n",
              "      <td>0</td>\n",
              "      <td>0</td>\n",
              "      <td>1</td>\n",
              "      <td>0</td>\n",
              "      <td>0</td>\n",
              "      <td>0</td>\n",
              "      <td>0</td>\n",
              "      <td>0</td>\n",
              "      <td>0</td>\n",
              "      <td>0</td>\n",
              "      <td>0</td>\n",
              "      <td>0</td>\n",
              "      <td>0</td>\n",
              "      <td>0</td>\n",
              "      <td>0</td>\n",
              "      <td>0</td>\n",
              "      <td>0</td>\n",
              "      <td>0</td>\n",
              "      <td>0</td>\n",
              "      <td>0</td>\n",
              "      <td>0</td>\n",
              "      <td>0</td>\n",
              "      <td>0</td>\n",
              "    </tr>\n",
              "    <tr>\n",
              "      <th>1</th>\n",
              "      <td>0</td>\n",
              "      <td>0</td>\n",
              "      <td>1</td>\n",
              "      <td>0</td>\n",
              "      <td>0</td>\n",
              "      <td>0</td>\n",
              "      <td>0</td>\n",
              "      <td>0</td>\n",
              "      <td>0</td>\n",
              "      <td>0</td>\n",
              "      <td>1</td>\n",
              "      <td>0</td>\n",
              "      <td>0</td>\n",
              "      <td>0</td>\n",
              "      <td>0</td>\n",
              "      <td>1</td>\n",
              "      <td>0</td>\n",
              "      <td>0</td>\n",
              "      <td>0</td>\n",
              "      <td>0</td>\n",
              "      <td>0</td>\n",
              "      <td>0</td>\n",
              "      <td>0</td>\n",
              "      <td>0</td>\n",
              "      <td>0</td>\n",
              "      <td>0</td>\n",
              "      <td>0</td>\n",
              "      <td>1</td>\n",
              "      <td>0</td>\n",
              "      <td>0</td>\n",
              "      <td>0</td>\n",
              "      <td>0</td>\n",
              "      <td>0</td>\n",
              "      <td>0</td>\n",
              "      <td>0</td>\n",
              "      <td>0</td>\n",
              "      <td>0</td>\n",
              "    </tr>\n",
              "    <tr>\n",
              "      <th>2</th>\n",
              "      <td>1</td>\n",
              "      <td>1</td>\n",
              "      <td>1</td>\n",
              "      <td>0</td>\n",
              "      <td>0</td>\n",
              "      <td>0</td>\n",
              "      <td>1</td>\n",
              "      <td>1</td>\n",
              "      <td>0</td>\n",
              "      <td>0</td>\n",
              "      <td>0</td>\n",
              "      <td>1</td>\n",
              "      <td>0</td>\n",
              "      <td>0</td>\n",
              "      <td>0</td>\n",
              "      <td>1</td>\n",
              "      <td>0</td>\n",
              "      <td>0</td>\n",
              "      <td>0</td>\n",
              "      <td>0</td>\n",
              "      <td>0</td>\n",
              "      <td>0</td>\n",
              "      <td>0</td>\n",
              "      <td>0</td>\n",
              "      <td>0</td>\n",
              "      <td>0</td>\n",
              "      <td>0</td>\n",
              "      <td>0</td>\n",
              "      <td>0</td>\n",
              "      <td>1</td>\n",
              "      <td>0</td>\n",
              "      <td>0</td>\n",
              "      <td>0</td>\n",
              "      <td>0</td>\n",
              "      <td>0</td>\n",
              "      <td>0</td>\n",
              "      <td>0</td>\n",
              "    </tr>\n",
              "    <tr>\n",
              "      <th>3</th>\n",
              "      <td>0</td>\n",
              "      <td>0</td>\n",
              "      <td>1</td>\n",
              "      <td>0</td>\n",
              "      <td>0</td>\n",
              "      <td>0</td>\n",
              "      <td>0</td>\n",
              "      <td>0</td>\n",
              "      <td>0</td>\n",
              "      <td>0</td>\n",
              "      <td>1</td>\n",
              "      <td>1</td>\n",
              "      <td>0</td>\n",
              "      <td>0</td>\n",
              "      <td>0</td>\n",
              "      <td>1</td>\n",
              "      <td>0</td>\n",
              "      <td>0</td>\n",
              "      <td>0</td>\n",
              "      <td>0</td>\n",
              "      <td>0</td>\n",
              "      <td>0</td>\n",
              "      <td>0</td>\n",
              "      <td>0</td>\n",
              "      <td>0</td>\n",
              "      <td>0</td>\n",
              "      <td>0</td>\n",
              "      <td>0</td>\n",
              "      <td>0</td>\n",
              "      <td>0</td>\n",
              "      <td>0</td>\n",
              "      <td>0</td>\n",
              "      <td>0</td>\n",
              "      <td>1</td>\n",
              "      <td>0</td>\n",
              "      <td>0</td>\n",
              "      <td>0</td>\n",
              "    </tr>\n",
              "    <tr>\n",
              "      <th>4</th>\n",
              "      <td>0</td>\n",
              "      <td>1</td>\n",
              "      <td>1</td>\n",
              "      <td>0</td>\n",
              "      <td>1</td>\n",
              "      <td>0</td>\n",
              "      <td>0</td>\n",
              "      <td>1</td>\n",
              "      <td>0</td>\n",
              "      <td>0</td>\n",
              "      <td>0</td>\n",
              "      <td>1</td>\n",
              "      <td>0</td>\n",
              "      <td>0</td>\n",
              "      <td>0</td>\n",
              "      <td>1</td>\n",
              "      <td>0</td>\n",
              "      <td>0</td>\n",
              "      <td>0</td>\n",
              "      <td>0</td>\n",
              "      <td>0</td>\n",
              "      <td>0</td>\n",
              "      <td>0</td>\n",
              "      <td>0</td>\n",
              "      <td>0</td>\n",
              "      <td>0</td>\n",
              "      <td>0</td>\n",
              "      <td>0</td>\n",
              "      <td>0</td>\n",
              "      <td>1</td>\n",
              "      <td>0</td>\n",
              "      <td>0</td>\n",
              "      <td>0</td>\n",
              "      <td>0</td>\n",
              "      <td>0</td>\n",
              "      <td>0</td>\n",
              "      <td>0</td>\n",
              "    </tr>\n",
              "  </tbody>\n",
              "</table>\n",
              "</div>"
            ],
            "text/plain": [
              "   gender_M  car_Y  ...  occyp_type_Security staff  occyp_type_Waiters/barmen staff\n",
              "0         0      0  ...                          0                                0\n",
              "1         0      0  ...                          0                                0\n",
              "2         1      1  ...                          0                                0\n",
              "3         0      0  ...                          0                                0\n",
              "4         0      1  ...                          0                                0\n",
              "\n",
              "[5 rows x 37 columns]"
            ]
          },
          "metadata": {
            "tags": []
          },
          "execution_count": 12
        }
      ]
    },
    {
      "cell_type": "markdown",
      "metadata": {
        "id": "dDS8Gfrb7Xns"
      },
      "source": [
        "범주형과 숫자형을 다시 합친 후"
      ]
    },
    {
      "cell_type": "code",
      "metadata": {
        "id": "PPeOOxoZ7Qw9"
      },
      "source": [
        "train_aft_df = pd.concat( [train_num_df, train_dummy_df],  axis = 1 )\n",
        "train_aft_df = train_aft_df.drop(columns = [\"index\"])\n",
        "test_aft_df = pd.concat( [test_num_df, test_dummy_df],  axis = 1 )\n",
        "test_aft_df = test_aft_df.drop(columns = [\"index\"])"
      ],
      "execution_count": 14,
      "outputs": []
    },
    {
      "cell_type": "markdown",
      "metadata": {
        "id": "06_ZPb5c_GR0"
      },
      "source": [
        "목표치인 credit을 떼어내어 y로, 나머지는 x로 지정합니다"
      ]
    },
    {
      "cell_type": "code",
      "metadata": {
        "id": "x0_eRW8_7V2q"
      },
      "source": [
        "train_y_df  = train_aft_df[\"credit\"] \n",
        "train_x_df = train_aft_df.drop(columns = [\"credit\"])"
      ],
      "execution_count": 15,
      "outputs": []
    },
    {
      "cell_type": "markdown",
      "metadata": {
        "id": "BZhFUMLm_RqT"
      },
      "source": [
        "먼저 train data의 일부를 train, 나머지를 test용으로 지정해봅시다. train_index를 중심으로 split 할껍니다. 보통 70% 정도로 학습하고 나머지 30%로 확인해보더군요."
      ]
    },
    {
      "cell_type": "code",
      "metadata": {
        "id": "XTOamwh8_FT7"
      },
      "source": [
        "train_index = int(len(train_y_df) * 0.7)"
      ],
      "execution_count": 16,
      "outputs": []
    },
    {
      "cell_type": "code",
      "metadata": {
        "id": "X8zbNPUT_hef"
      },
      "source": [
        "train_train_y_df = train_y_df[:train_index]\n",
        "train_test_y_df = train_y_df[train_index:]\n",
        "train_train_x_df = train_x_df[:train_index]\n",
        "train_test_x_df = train_x_df[train_index:]\n"
      ],
      "execution_count": 17,
      "outputs": []
    },
    {
      "cell_type": "markdown",
      "metadata": {
        "id": "M3SQUJc6_l6P"
      },
      "source": [
        "###4. 모델 적용"
      ]
    },
    {
      "cell_type": "markdown",
      "metadata": {
        "id": "OenwgNmg_oU-"
      },
      "source": [
        "그룹을 나누기 위해서 제일 적절해 보이는 기법은 KNN이길래 먼저 이걸로 해봅니다."
      ]
    },
    {
      "cell_type": "code",
      "metadata": {
        "id": "c-1Cdckp_jX8"
      },
      "source": [
        "from sklearn.neighbors import KNeighborsClassifier\n",
        "knn = KNeighborsClassifier(n_neighbors=1)"
      ],
      "execution_count": 18,
      "outputs": []
    },
    {
      "cell_type": "code",
      "metadata": {
        "colab": {
          "base_uri": "https://localhost:8080/"
        },
        "id": "ZJsRCO9x_va7",
        "outputId": "c2a6f34e-37dd-41e2-f40c-d742dbe4a661"
      },
      "source": [
        "knn.fit(train_train_x_df, train_train_y_df)"
      ],
      "execution_count": 19,
      "outputs": [
        {
          "output_type": "execute_result",
          "data": {
            "text/plain": [
              "KNeighborsClassifier(algorithm='auto', leaf_size=30, metric='minkowski',\n",
              "                     metric_params=None, n_jobs=None, n_neighbors=1, p=2,\n",
              "                     weights='uniform')"
            ]
          },
          "metadata": {
            "tags": []
          },
          "execution_count": 19
        }
      ]
    },
    {
      "cell_type": "markdown",
      "metadata": {
        "id": "uBt8JV3v_2lW"
      },
      "source": [
        "dacon에서 득점을 체크하는 방법은 보통 log_loss인데, sklearn에 패키지가 있고, predict가 아닌 predict_proba 함수로 결과값을 구하면 각 단계에 대한 확률로 표시되기 때문에 이걸로 계산해보면 됩니다. 예를 들면 이 경우에 train_pred_proba에는 [0.1,0.01,0.8] 같은 식으로 각 클래스의 확률을 적습니다"
      ]
    },
    {
      "cell_type": "code",
      "metadata": {
        "colab": {
          "base_uri": "https://localhost:8080/"
        },
        "id": "f6LVdjfG_yCr",
        "outputId": "991f26f7-a6f7-41c8-a678-f7988ed355df"
      },
      "source": [
        "from sklearn.metrics import log_loss\n",
        "\n",
        "train_pred_proba = knn.predict_proba(train_test_x_df)\n",
        "log_loss(train_test_y_df, train_pred_proba)\n",
        "\n"
      ],
      "execution_count": 20,
      "outputs": [
        {
          "output_type": "execute_result",
          "data": {
            "text/plain": [
              "12.683362709897283"
            ]
          },
          "metadata": {
            "tags": []
          },
          "execution_count": 20
        }
      ]
    },
    {
      "cell_type": "markdown",
      "metadata": {
        "id": "Tk2hrrE0ANb0"
      },
      "source": [
        "이게 처음 돌렸던 값인데... 이 정도면 보통 꼴찌가 나옵니다. n_neighbor 값을 바꿔봅시다."
      ]
    },
    {
      "cell_type": "code",
      "metadata": {
        "colab": {
          "base_uri": "https://localhost:8080/"
        },
        "id": "4KkAbCP2_z1L",
        "outputId": "45ee0020-2995-4041-e0b5-cd39212fe5a8"
      },
      "source": [
        "knn = KNeighborsClassifier(n_neighbors=170, weights= \"uniform\", metric = \"manhattan\")\n",
        "knn.fit(train_train_x_df, train_train_y_df)\n",
        "train_pred_proba = knn.predict_proba(train_test_x_df)\n",
        "log_loss(train_test_y_df, train_pred_proba)"
      ],
      "execution_count": 42,
      "outputs": [
        {
          "output_type": "execute_result",
          "data": {
            "text/plain": [
              "0.8837954377495592"
            ]
          },
          "metadata": {
            "tags": []
          },
          "execution_count": 42
        }
      ]
    },
    {
      "cell_type": "markdown",
      "metadata": {
        "id": "mwb0rS9LCD-R"
      },
      "source": [
        "숫자를 높여보니 값이 훨씬 개선 되어 나왔습니다. 그러면 적절한 파라메터를 찾기 위해 gridsearchCV를 쓸 수 있지 않을까요?"
      ]
    },
    {
      "cell_type": "code",
      "metadata": {
        "colab": {
          "base_uri": "https://localhost:8080/"
        },
        "id": "51LlH3zYCDZf",
        "outputId": "23544b9d-c2aa-4721-926c-8b0ce8a25759"
      },
      "source": [
        "from sklearn.model_selection import GridSearchCV\n",
        "\n",
        "grid_params = {\n",
        "    'n_neighbors' : [3,5,11,19,31,50,90,110],\n",
        "    'weights' : ['uniform','distance'],\n",
        "    'metric' :['euclidean','manhattan'],\n",
        "}\n",
        "\n",
        "gs = GridSearchCV(KNeighborsClassifier(), \n",
        "                  grid_params,\n",
        "                  verbose = 1,\n",
        "                  cv = 3,\n",
        "                  n_jobs = -1\n",
        "                  )\n",
        "\n",
        "gs_result = gs.fit(train_train_x_df, train_train_y_df)"
      ],
      "execution_count": 26,
      "outputs": [
        {
          "output_type": "stream",
          "text": [
            "Fitting 3 folds for each of 32 candidates, totalling 96 fits\n"
          ],
          "name": "stdout"
        },
        {
          "output_type": "stream",
          "text": [
            "[Parallel(n_jobs=-1)]: Using backend LokyBackend with 2 concurrent workers.\n",
            "[Parallel(n_jobs=-1)]: Done  46 tasks      | elapsed:   25.4s\n",
            "[Parallel(n_jobs=-1)]: Done  96 out of  96 | elapsed:   52.4s finished\n"
          ],
          "name": "stderr"
        }
      ]
    },
    {
      "cell_type": "code",
      "metadata": {
        "colab": {
          "base_uri": "https://localhost:8080/"
        },
        "id": "fHOLcR4MFDc3",
        "outputId": "9b138063-6be7-4f41-e52e-7221684e7f60"
      },
      "source": [
        "gs_result.best_score_\n",
        "gs_result.best_estimator_\n",
        "gs_result.best_params_"
      ],
      "execution_count": 27,
      "outputs": [
        {
          "output_type": "execute_result",
          "data": {
            "text/plain": [
              "{'metric': 'euclidean', 'n_neighbors': 110, 'weights': 'distance'}"
            ]
          },
          "metadata": {
            "tags": []
          },
          "execution_count": 27
        }
      ]
    },
    {
      "cell_type": "code",
      "metadata": {
        "colab": {
          "base_uri": "https://localhost:8080/"
        },
        "id": "19ObWqjxFcOc",
        "outputId": "d5ae1ccb-39bd-4272-e9f8-f09b4ebc4b36"
      },
      "source": [
        "grid_params = {\n",
        "    'n_neighbors' : range(100,1000, 100 ),\n",
        "    'weights' : ['uniform','distance'],\n",
        "    'metric' :['euclidean','manhattan'],\n",
        "}\n",
        "\n",
        "gs = GridSearchCV(KNeighborsClassifier(), \n",
        "                  grid_params,\n",
        "                  verbose = 1,\n",
        "                  cv = 3,\n",
        "                  n_jobs = -1\n",
        "                  )\n",
        "\n",
        "gs_result = gs.fit(train_train_x_df, train_train_y_df)"
      ],
      "execution_count": 30,
      "outputs": [
        {
          "output_type": "stream",
          "text": [
            "Fitting 3 folds for each of 36 candidates, totalling 108 fits\n"
          ],
          "name": "stdout"
        },
        {
          "output_type": "stream",
          "text": [
            "[Parallel(n_jobs=-1)]: Using backend LokyBackend with 2 concurrent workers.\n",
            "[Parallel(n_jobs=-1)]: Done  46 tasks      | elapsed:  1.1min\n",
            "[Parallel(n_jobs=-1)]: Done 108 out of 108 | elapsed:  3.0min finished\n"
          ],
          "name": "stderr"
        }
      ]
    },
    {
      "cell_type": "code",
      "metadata": {
        "colab": {
          "base_uri": "https://localhost:8080/"
        },
        "id": "slVZMxoEFsAi",
        "outputId": "5f11d999-c09a-488c-a586-082911bfe1cf"
      },
      "source": [
        "gs_result.best_score_\n",
        "gs_result.best_estimator_\n",
        "gs_result.best_params_"
      ],
      "execution_count": 31,
      "outputs": [
        {
          "output_type": "execute_result",
          "data": {
            "text/plain": [
              "{'metric': 'manhattan', 'n_neighbors': 400, 'weights': 'distance'}"
            ]
          },
          "metadata": {
            "tags": []
          },
          "execution_count": 31
        }
      ]
    },
    {
      "cell_type": "code",
      "metadata": {
        "colab": {
          "base_uri": "https://localhost:8080/"
        },
        "id": "ZaE5m-W1GSW8",
        "outputId": "aa75c71b-967e-40e1-e97e-35adb42f71e1"
      },
      "source": [
        "train_pred_proba = gs_result.predict_proba(train_test_x_df)\n",
        "log_loss(train_test_y_df, train_pred_proba)"
      ],
      "execution_count": 35,
      "outputs": [
        {
          "output_type": "execute_result",
          "data": {
            "text/plain": [
              "2.0126923023979884"
            ]
          },
          "metadata": {
            "tags": []
          },
          "execution_count": 35
        }
      ]
    },
    {
      "cell_type": "markdown",
      "metadata": {
        "id": "3zZuhMWqK8iJ"
      },
      "source": [
        "아니 이게 왠일인가요... 이게 바로 과적합인가요"
      ]
    },
    {
      "cell_type": "code",
      "metadata": {
        "colab": {
          "base_uri": "https://localhost:8080/"
        },
        "id": "HY1bLmn1Hlpj",
        "outputId": "d3b8fe10-aa38-48d9-b4b5-f0fe94a62284"
      },
      "source": [
        "grid_params = {\n",
        "    'n_neighbors' : range(100,120, 1 ),\n",
        "    'weights' : ['uniform'],\n",
        "    'metric' :['manhattan'],\n",
        "}\n",
        "\n",
        "gs = GridSearchCV(KNeighborsClassifier(), \n",
        "                  grid_params,\n",
        "                  verbose = 1,\n",
        "                  cv = 3,\n",
        "                  n_jobs = -1\n",
        "                  )\n",
        "\n",
        "gs_result = gs.fit(train_train_x_df, train_train_y_df)"
      ],
      "execution_count": 49,
      "outputs": [
        {
          "output_type": "stream",
          "text": [
            "Fitting 3 folds for each of 20 candidates, totalling 60 fits\n"
          ],
          "name": "stdout"
        },
        {
          "output_type": "stream",
          "text": [
            "[Parallel(n_jobs=-1)]: Using backend LokyBackend with 2 concurrent workers.\n",
            "[Parallel(n_jobs=-1)]: Done  46 tasks      | elapsed:   37.5s\n",
            "[Parallel(n_jobs=-1)]: Done  60 out of  60 | elapsed:   49.1s finished\n"
          ],
          "name": "stderr"
        }
      ]
    },
    {
      "cell_type": "markdown",
      "metadata": {
        "id": "-xVKAo-1RsLs"
      },
      "source": [
        "weights 를 distance로 하면 과적합이 나오는 모양이라 uniform으로 맞추고, 다른걸 바꿔서 해봅니다. 그러나 n_neighbors는 100 전후에서 비슷하게 나오네요."
      ]
    },
    {
      "cell_type": "code",
      "metadata": {
        "colab": {
          "base_uri": "https://localhost:8080/"
        },
        "id": "tQo3OasQHwhN",
        "outputId": "2e35ebc7-9dc0-43c4-8548-c1009f011562"
      },
      "source": [
        "gs_result.best_score_\n",
        "gs_result.best_estimator_\n",
        "gs_result.best_params_"
      ],
      "execution_count": 50,
      "outputs": [
        {
          "output_type": "execute_result",
          "data": {
            "text/plain": [
              "{'metric': 'manhattan', 'n_neighbors': 102, 'weights': 'uniform'}"
            ]
          },
          "metadata": {
            "tags": []
          },
          "execution_count": 50
        }
      ]
    },
    {
      "cell_type": "code",
      "metadata": {
        "colab": {
          "base_uri": "https://localhost:8080/"
        },
        "id": "Cb2D5LJeLTRk",
        "outputId": "93d6321f-5fa9-4e0f-c559-7cd6aba6de6c"
      },
      "source": [
        "train_pred_proba = gs_result.predict_proba(train_test_x_df)\n",
        "log_loss(train_test_y_df, train_pred_proba)"
      ],
      "execution_count": 51,
      "outputs": [
        {
          "output_type": "execute_result",
          "data": {
            "text/plain": [
              "0.8827402693829497"
            ]
          },
          "metadata": {
            "tags": []
          },
          "execution_count": 51
        }
      ]
    }
  ]
}